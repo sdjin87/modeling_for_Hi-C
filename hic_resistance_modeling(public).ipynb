{
 "cells": [
  {
   "cell_type": "code",
   "execution_count": null,
   "id": "38699119-dbd7-48e3-a789-f57c3f37dbf9",
   "metadata": {},
   "outputs": [],
   "source": [
    "import tensorflow as tf\n",
    "import matplotlib.pyplot as plt\n",
    "\n",
    "from tensorflow.keras.layers import Dense, Conv2D, MaxPool2D, Flatten, Dropout\n",
    "from tensorflow.keras.models import Sequential\n",
    "from tensorflow.keras.callbacks import ModelCheckpoint\n",
    "from tensorflow.keras.applications import VGG16\n",
    "from tensorflow.keras.preprocessing.image import ImageDataGenerator\n",
    "from sklearn.model_selection import train_test_split"
   ]
  },
  {
   "cell_type": "code",
   "execution_count": null,
   "id": "025f05dc-c3e8-4814-a98e-b855c32d9ff3",
   "metadata": {},
   "outputs": [],
   "source": [
    "#Modeling for Hi-C metrix\n",
    "data=\"plot/DEGs_final/\"\n",
    "\n",
    "data_generator=ImageDataGenerator(\n",
    "    validation_split=0.3,\n",
    "    rescale=1./255)\n",
    "train_generator =data_generator.flow_from_directory(data,\n",
    "                                                    subset='training',\n",
    "                                                    batch_size= 16,\n",
    "                                                    target_size = (200,200),\n",
    "                                                    shuffle=True,\n",
    "                                                    class_mode = 'categorical')\n",
    "validation_generator =data_generator.flow_from_directory(data,\n",
    "                                                    subset='validation',\n",
    "                                                    batch_size= 16,\n",
    "                                                    target_size = (200,200),\n",
    "                                                    shuffle=True,\n",
    "                                                    class_mode = 'categorical')\n",
    "\n",
    "class_map = {\n",
    "    0:'resistant',\n",
    "    1:'sensitive', \n",
    "}\n",
    "\n",
    "#model2\n",
    "model = Sequential([\n",
    "                    Conv2D(32, (3,3), padding='same' ,activation= 'relu', input_shape = (200,200,3)),\n",
    "                    MaxPool2D(2,2),\n",
    "                    Conv2D(25, (3,3),padding='same', activation='relu'),\n",
    "                    MaxPool2D(2,2),\n",
    "                    Conv2D(165, (2,2),padding='same', activation='relu'),\n",
    "                    MaxPool2D(2,2),\n",
    "                    Flatten(),\n",
    "                    Dropout(0.5),\n",
    "                    Dense(1300, activation= 'relu'),\n",
    "                    Dense(430, activation= 'relu'),\n",
    "                    Dense(210, activation= 'relu'),\n",
    "                    Dense(100, activation= 'relu'),\n",
    "                    Dense(2, activation='softmax'),\n",
    "])\n",
    "\n",
    "model.compile(optimizer='adam', loss='categorical_crossentropy', metrics=['acc'])\n",
    "checkpoint_path = \"tmp_checkpoint.ckpt\"\n",
    "checkpoint = ModelCheckpoint(filepath=checkpoint_path,\n",
    "                             save_weights_only = True,\n",
    "                             save_best_only = True,\n",
    "                             monitor = 'val_loss',\n",
    "                             verbose=1)\n",
    "history = model.fit(train_generator,\n",
    "                    validation_data = (validation_generator),\n",
    "                    epochs = 20,\n",
    "                    callbacks = [checkpoint])\n",
    "\n",
    "# val_loss, val_acc graph\n",
    "epochs=20\n",
    "acc = history.history['acc']\n",
    "val_acc = history.history['val_acc']\n",
    "\n",
    "loss = history.history['loss']\n",
    "val_loss = history.history['val_loss']\n",
    "\n",
    "epochs_range = range(epochs)\n",
    "\n",
    "plt.figure(figsize=(10, 10))\n",
    "plt.subplot(1, 2, 1)\n",
    "plt.plot(epochs_range, acc, label='Training Accuracy')\n",
    "plt.plot(epochs_range, val_acc, label='Validation Accuracy')\n",
    "plt.legend(loc='lower right')\n",
    "plt.title('Training and Validation Accuracy')\n",
    "\n",
    "plt.subplot(1, 2, 2)\n",
    "plt.plot(epochs_range, loss, label='Training Loss')\n",
    "plt.plot(epochs_range, val_loss, label='Validation Loss')\n",
    "plt.legend(loc='upper right')\n",
    "plt.title('Training and Validation Loss')\n",
    "plt.show()"
   ]
  },
  {
   "cell_type": "code",
   "execution_count": null,
   "id": "3aa3331e-fd56-4882-ae1b-37e29c49510c",
   "metadata": {},
   "outputs": [],
   "source": [
    "#visualization\n",
    "for x, y in validation_generator:\n",
    "    print(x.shape,y.shape)\n",
    "    print(y[0])\n",
    "    \n",
    "    fig, axes = plt.subplots(2, 5)\n",
    "    fig.set_size_inches(15, 6)\n",
    "    for i in range(10):\n",
    "        axes[i//5, i%5].imshow(x[i])\n",
    "        axes[i//5, i%5].set_title(class_map[y[i].argmax()], fontsize=15)\n",
    "        axes[i//5, i%5].axis('off')\n",
    "    break\n",
    "plt.show()"
   ]
  },
  {
   "cell_type": "code",
   "execution_count": 8,
   "id": "7570c26d-7d8c-4098-929d-df828b9d196f",
   "metadata": {},
   "outputs": [
    {
     "name": "stdout",
     "output_type": "stream",
     "text": [
      "Found 40 images belonging to 2 classes.\n"
     ]
    }
   ],
   "source": [
    "#test set confirmation\n",
    "test=\"plot/test/\"\n",
    "test_generator=ImageDataGenerator(\n",
    "    rescale=1./255)\n",
    "test_set =test_generator.flow_from_directory(test,\n",
    "                                                   batch_size= 4,\n",
    "                                                   target_size = (200,200),\n",
    "                                                   shuffle=True,\n",
    "                                                   class_mode = 'categorical')\n",
    "\n",
    "n_img = test_set.n\n",
    "steps = n_img // 4\n",
    "import numpy as np\n",
    "\n",
    "imgs, labels = [], []\n",
    "for i in range(steps):\n",
    "    a, b = test_set.next()\n",
    "    imgs.extend(a)\n",
    "    labels.extend(b)\n",
    "\n",
    "imgs = np.asarray(imgs)\n",
    "labels = np.asarray(labels)\n",
    "\n",
    "re_model=tf.keras.models.load_model(\"hic_resistance_model2.h5\")\n",
    "re_model.evaluate(test_set)\n"
   ]
  },
  {
   "cell_type": "code",
   "execution_count": null,
   "id": "e628ad14-83b2-4094-9586-f4eba4497a5d",
   "metadata": {
    "tags": []
   },
   "outputs": [],
   "source": [
    "'''\n",
    "#model1\n",
    "model = Sequential([\n",
    "                    Conv2D(32, (3,3), padding='same' ,activation= 'relu', input_shape = (200,200,3)),\n",
    "                    MaxPool2D(2,2),\n",
    "                    Conv2D(64, (3,3),padding='same', activation='relu'),\n",
    "                    MaxPool2D(2,2),\n",
    "                    Conv2D(128, (3,3),padding='same', activation='relu'),\n",
    "                    MaxPool2D(2,2),\n",
    "                    Flatten(),\n",
    "                    Dropout(0.5),\n",
    "                    Dense(1024, activation= 'relu'),\n",
    "                    Dense(512, activation= 'relu'),\n",
    "                    Dense(256, activation= 'relu'),\n",
    "                    Dense(64, activation= 'relu'),\n",
    "                    Dense(2, activation='softmax'),\n",
    "])\n",
    "\n",
    "model.compile(optimizer='adam', loss='categorical_crossentropy', metrics=['acc'])\n",
    "checkpoint_path = \"tmp_checkpoint.ckpt\"\n",
    "checkpoint = ModelCheckpoint(filepath=checkpoint_path,\n",
    "                             save_weights_only = True,\n",
    "                             save_best_only = True,\n",
    "                             monitor = 'val_loss',\n",
    "                             verbose=1)\n",
    "history = model.fit(train_generator,\n",
    "                    validation_data = (validation_generator),\n",
    "                    epochs = 20,\n",
    "                    callbacks = [checkpoint])\n",
    "'''"
   ]
  },
  {
   "cell_type": "code",
   "execution_count": 20,
   "id": "b86b2605-8bdd-4045-8fad-28f36cbd6a52",
   "metadata": {},
   "outputs": [],
   "source": [
    "#Explain the model\n",
    "from keras.applications.vgg16 import VGG16, preprocess_input, decode_predictions\n",
    "from keras.preprocessing import image\n",
    "import requests\n",
    "from skimage.segmentation import slic\n",
    "import matplotlib.pylab as pl\n",
    "import numpy as np\n",
    "import shap"
   ]
  },
  {
   "cell_type": "code",
   "execution_count": 21,
   "id": "a80bb1fc-4f2a-4bbe-8652-259ce81da2a2",
   "metadata": {},
   "outputs": [],
   "source": [
    "model=tf.keras.models.load_model(\"hic_resistance_model1.h5\")\n",
    "#model=VGG16()\n",
    "# load an image\n",
    "file = \"plot/DEGs_final/sensitive/a2780_chm13_deg_chr17_29410000-29420000.txt.png\"\n",
    "file2=\"plot/DEGs_final/resistant/a2780cis_chm13_deg_chr17_29410000-29420000.txt.png\"\n",
    "img = image.load_img(file, target_size=(200, 200))\n",
    "img2 = image.load_img(file2, target_size=(200, 200))\n",
    "img_orig = image.img_to_array(img)\n",
    "img_orig2 = image.img_to_array(img2)\n",
    "\n",
    "# segment the image so we don't have to explain every pixel\n",
    "segments_slic = slic(img, n_segments=50, compactness=30, sigma=3)\n",
    "segments_slic2 = slic(img2, n_segments=50, compactness=30, sigma=3)"
   ]
  },
  {
   "cell_type": "code",
   "execution_count": 22,
   "id": "6ed800f9-7f53-4d42-95c3-05d6314e82fd",
   "metadata": {},
   "outputs": [],
   "source": [
    "# define a function that depends on a binary mask representing if an image region is hidden\n",
    "def mask_image(zs, segmentation, image, background=None):\n",
    "    if background is None:\n",
    "        background = image.mean((0,1))\n",
    "    out = np.zeros((zs.shape[0], image.shape[0], image.shape[1], image.shape[2]))\n",
    "    for i in range(zs.shape[0]):\n",
    "        out[i,:,:,:] = image\n",
    "        for j in range(zs.shape[1]):\n",
    "            if zs[i,j] == 0:\n",
    "                out[i][segmentation == j,:] = background\n",
    "    return out\n",
    "def f(z):\n",
    "    return model.predict(preprocess_input(mask_image(z, segments_slic, img_orig, 200))) \n",
    "def g(z):\n",
    "    return model.predict(preprocess_input(mask_image(z, segments_slic2, img_orig2, 200)))"
   ]
  },
  {
   "cell_type": "code",
   "execution_count": 23,
   "id": "b98b4513-d6bc-4664-abd0-c3fc59088a65",
   "metadata": {},
   "outputs": [
    {
     "data": {
      "application/vnd.jupyter.widget-view+json": {
       "model_id": "c80bf1222dfd4edf8cb901893e785fb9",
       "version_major": 2,
       "version_minor": 0
      },
      "text/plain": [
       "  0%|          | 0/1 [00:00<?, ?it/s]"
      ]
     },
     "metadata": {},
     "output_type": "display_data"
    },
    {
     "data": {
      "application/vnd.jupyter.widget-view+json": {
       "model_id": "1703f33c172c47818f21106bcd15a00d",
       "version_major": 2,
       "version_minor": 0
      },
      "text/plain": [
       "  0%|          | 0/1 [00:00<?, ?it/s]"
      ]
     },
     "metadata": {},
     "output_type": "display_data"
    }
   ],
   "source": [
    "# use Kernel SHAP to explain the network's predictions\n",
    "explainer = shap.KernelExplainer(f, np.zeros((1,50)))\n",
    "shap_values = explainer.shap_values(np.ones((1,50)), nsamples=1000) # runs VGG16 1000 times\n",
    "explainer2 = shap.KernelExplainer(g, np.zeros((1,50)))\n",
    "shap_values2 = explainer2.shap_values(np.ones((1,50)), nsamples=1000) # runs VGG16 1000 times"
   ]
  },
  {
   "cell_type": "code",
   "execution_count": 24,
   "id": "941ff4f2-4045-4838-9bf9-9e6357f9b47e",
   "metadata": {},
   "outputs": [],
   "source": [
    "# get the top predictions from the model\n",
    "preds = model.predict(preprocess_input(np.expand_dims(img_orig.copy(), axis=0)))\n",
    "top_preds = np.argsort(-preds)\n",
    "preds2 = model.predict(preprocess_input(np.expand_dims(img_orig2.copy(), axis=0)))\n",
    "top_preds2 = np.argsort(-preds2)"
   ]
  },
  {
   "cell_type": "code",
   "execution_count": 25,
   "id": "97ae4c90-297d-47fb-bd3c-d668a12d93c1",
   "metadata": {},
   "outputs": [],
   "source": [
    "# make a color map\n",
    "from matplotlib.colors import LinearSegmentedColormap\n",
    "colors = []\n",
    "for l in np.linspace(1,0,100):\n",
    "    colors.append((245/255,39/255,87/255,l))\n",
    "for l in np.linspace(0,1,100):\n",
    "    colors.append((24/255,196/255,93/255,l))\n",
    "cm = LinearSegmentedColormap.from_list(\"shap\", colors)\n",
    "feature_names = {'1': ['n01440764', 'sensitive'],\n",
    " '0': ['n01443537', 'resistance']}"
   ]
  },
  {
   "cell_type": "code",
   "execution_count": 26,
   "id": "a33b9aab-c81a-4f8a-a421-ce967d51f269",
   "metadata": {},
   "outputs": [
    {
     "data": {
      "image/png": "[encoded data removed]",
      "text/plain": [
       "<Figure size 1000x1000 with 7 Axes>"
      ]
     },
     "metadata": {},
     "output_type": "display_data"
    }
   ],
   "source": [
    "def fill_segmentation(values, segmentation):\n",
    "    out = np.zeros(segmentation.shape)\n",
    "    for i in range(len(values)):\n",
    "        out[segmentation == i] = values[i]\n",
    "    return out\n",
    "\n",
    "# plot our explanations\n",
    "\n",
    "fig, axes = pl.subplots(nrows=2, ncols=3, figsize=(10,10))\n",
    "inds = top_preds[0]\n",
    "inds2 = top_preds2[0]\n",
    "axes[0,0].imshow(img)\n",
    "axes[0,0].axis('off')\n",
    "axes[1,0].imshow(img2)\n",
    "axes[1,0].axis('off')\n",
    "max_val = np.max([np.max(np.abs(shap_values[i][:,:-1])) for i in range(len(shap_values))])\n",
    "for i in range(2):\n",
    "    m = fill_segmentation(shap_values[inds[i]][0], segments_slic)\n",
    "    m2 = fill_segmentation(shap_values2[inds2[i]][0], segments_slic2)\n",
    "    axes[0,i+1].set_title(feature_names[str(inds[i])][1])\n",
    "    axes[0,i+1].imshow(img.convert('LA'), alpha=0.15)\n",
    "    axes[1,i+1].imshow(img2.convert('LA'), alpha=0.15)\n",
    "    im = axes[0,i+1].imshow(m, cmap=cm, vmin=-max_val, vmax=max_val)\n",
    "    axes[1,i+1].imshow(m2, cmap=cm, vmin=-max_val, vmax=max_val)\n",
    "    #im = axes[0,i+1].imshow(m, cmap=cm, vmin=-0.1, vmax=0.1)\n",
    "    #axes[1,i+1].imshow(m2, cmap=cm, vmin=-0.1, vmax=0.1)\n",
    "    axes[0,i+1].axis('off')\n",
    "    axes[1,i+1].axis('off')\n",
    "cb = fig.colorbar(im, ax=axes.ravel().tolist(), label=\"SHAP value\", orientation=\"horizontal\", aspect=60)\n",
    "cb.outline.set_visible(False) #Ture로 바꿔보자 \n",
    "pl.show()"
   ]
  }
 ],
 "metadata": {
  "kernelspec": {
   "display_name": "Python 3 (ipykernel)",
   "language": "python",
   "name": "python3"
  },
  "language_info": {
   "codemirror_mode": {
    "name": "ipython",
    "version": 3
   },
   "file_extension": ".py",
   "mimetype": "text/x-python",
   "name": "python",
   "nbconvert_exporter": "python",
   "pygments_lexer": "ipython3",
   "version": "3.8.16"
  }
 },
 "nbformat": 4,
 "nbformat_minor": 5
}
